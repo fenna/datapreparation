{
 "cells": [
  {
   "cell_type": "markdown",
   "id": "a9767d27",
   "metadata": {},
   "source": [
    "# Web scraper \n",
    "\n",
    "source https://blog.logrocket.com/build-python-web-scraper-beautiful-soup/"
   ]
  },
  {
   "cell_type": "code",
   "execution_count": 1,
   "id": "ab21811e",
   "metadata": {},
   "outputs": [],
   "source": [
    "import pandas as pd\n",
    "import requests\n",
    "from bs4 import BeautifulSoup"
   ]
  },
  {
   "cell_type": "code",
   "execution_count": 2,
   "id": "645d30aa",
   "metadata": {},
   "outputs": [],
   "source": [
    "# if I do not use a header I get a 403 error. Since I have a mac and Safari I choose this header\n",
    "headers={\"User-Agent\": \"Mozilla/5.0 (Macintosh; Intel Mac OS X 10_7_4) AppleWebKit/534.57.2 (KHTML,  like Gecko) Version/5.1.7 Safari/534.57.2\"}"
   ]
  },
  {
   "cell_type": "code",
   "execution_count": 3,
   "id": "e863fb0f",
   "metadata": {},
   "outputs": [],
   "source": [
    "def fetch_coingecko_html(url, headers):\n",
    "    # make a request to the target website\n",
    "    r = requests.get(url, headers = headers)\n",
    "    #return html text\n",
    "    return r.text"
   ]
  },
  {
   "cell_type": "markdown",
   "id": "4dea755e",
   "metadata": {},
   "source": [
    "With BeautifulSoup we parse the html in structured text, and we can use these structures to find pieces of interest, like tables. The name of the tables can be find by using inspect in the browser.\n",
    "There are standard libraries of pandas read_html, that finds all the tables. We only want the coin table"
   ]
  },
  {
   "cell_type": "code",
   "execution_count": 4,
   "id": "a178e236",
   "metadata": {},
   "outputs": [],
   "source": [
    "def extract_crypto_info(html):\n",
    "    # parse the HTML content with Beautiful Soup\n",
    "    soup = BeautifulSoup(html, \"html.parser\")\n",
    "\n",
    "    # find all the cryptocurrency elements\n",
    "    coin_table = soup.find(\"div\", {\"class\": \"coin-table\"})\n",
    "    crypto_elements = coin_table.find_all(\"tr\")[1:]\n",
    "\n",
    "    # iterate through our cryptocurrency elements\n",
    "    cryptos = []\n",
    "    for crypto in crypto_elements:\n",
    "        # extract the information needed using our observations\n",
    "        cryptos.append({\n",
    "            \"name\": crypto.find(\"td\", {\"class\": \"coin-name\"})[\"data-sort\"],\n",
    "            \"price\": crypto.find(\"td\", {\"class\": \"td-price\"}).text.strip(),\n",
    "            \"change_1h\": crypto.find(\"td\", {\"class\": \"td-change1h\"}).text.strip(),\n",
    "            \"change_24h\": crypto.find(\"td\", {\"class\": \"td-change24h\"}).text.strip(),\n",
    "            \"change_7d\": crypto.find(\"td\", {\"class\": \"td-change7d\"}).text.strip(),\n",
    "            \"volume\": crypto.find(\"td\", {\"class\": \"td-liquidity_score\"}).text.strip(),\n",
    "            \"market_cap\": crypto.find(\"td\", {\"class\": \"td-market_cap\"}).text.strip()\n",
    "        })\n",
    "\n",
    "    return cryptos"
   ]
  },
  {
   "cell_type": "code",
   "execution_count": 5,
   "id": "0947be63",
   "metadata": {},
   "outputs": [
    {
     "name": "stdout",
     "output_type": "stream",
     "text": [
      "downloading page 1\n",
      "downloading page 2\n",
      "downloading page 3\n",
      "downloading page 4\n",
      "downloading page 5\n",
      "downloading page 6\n",
      "downloading page 7\n",
      "downloading page 8\n",
      "downloading page 9\n"
     ]
    }
   ],
   "source": [
    "dfs = pd.DataFrame()\n",
    "\n",
    "for i in range(1,10):\n",
    "    # Url I want to scrape\n",
    "    url = f\"https://www.coingecko.com/?page={i}\"\n",
    "    # fetch CoinGecko's HTML content\n",
    "    html = fetch_coingecko_html(url, headers)\n",
    "\n",
    "    # extract our data from the HTML document\n",
    "    cryptos = extract_crypto_info(html)\n",
    "    print(f\"downloading page {i}\")\n",
    "\n",
    "    #put in pandas dataframe\n",
    "    dfs = pd.concat([pd.DataFrame(cryptos), dfs])"
   ]
  },
  {
   "cell_type": "code",
   "execution_count": 6,
   "id": "d85df16c",
   "metadata": {},
   "outputs": [
    {
     "name": "stdout",
     "output_type": "stream",
     "text": [
      "<class 'pandas.core.frame.DataFrame'>\n",
      "Int64Index: 900 entries, 0 to 99\n",
      "Data columns (total 7 columns):\n",
      " #   Column      Non-Null Count  Dtype \n",
      "---  ------      --------------  ----- \n",
      " 0   name        900 non-null    object\n",
      " 1   price       900 non-null    object\n",
      " 2   change_1h   900 non-null    object\n",
      " 3   change_24h  900 non-null    object\n",
      " 4   change_7d   900 non-null    object\n",
      " 5   volume      900 non-null    object\n",
      " 6   market_cap  900 non-null    object\n",
      "dtypes: object(7)\n",
      "memory usage: 56.2+ KB\n"
     ]
    }
   ],
   "source": [
    "dfs.info()"
   ]
  },
  {
   "cell_type": "code",
   "execution_count": 7,
   "id": "8626935a",
   "metadata": {},
   "outputs": [
    {
     "data": {
      "text/html": [
       "<div>\n",
       "<style scoped>\n",
       "    .dataframe tbody tr th:only-of-type {\n",
       "        vertical-align: middle;\n",
       "    }\n",
       "\n",
       "    .dataframe tbody tr th {\n",
       "        vertical-align: top;\n",
       "    }\n",
       "\n",
       "    .dataframe thead th {\n",
       "        text-align: right;\n",
       "    }\n",
       "</style>\n",
       "<table border=\"1\" class=\"dataframe\">\n",
       "  <thead>\n",
       "    <tr style=\"text-align: right;\">\n",
       "      <th></th>\n",
       "      <th>name</th>\n",
       "      <th>price</th>\n",
       "      <th>change_1h</th>\n",
       "      <th>change_24h</th>\n",
       "      <th>change_7d</th>\n",
       "      <th>volume</th>\n",
       "      <th>market_cap</th>\n",
       "    </tr>\n",
       "  </thead>\n",
       "  <tbody>\n",
       "    <tr>\n",
       "      <th>0</th>\n",
       "      <td>Newscrypto Coin</td>\n",
       "      <td>$0.121698</td>\n",
       "      <td>1.2%</td>\n",
       "      <td>-4.7%</td>\n",
       "      <td>-30.5%</td>\n",
       "      <td>$1,506,663</td>\n",
       "      <td>$17,889,562</td>\n",
       "    </tr>\n",
       "    <tr>\n",
       "      <th>1</th>\n",
       "      <td>Ooki</td>\n",
       "      <td>$0.004013587468</td>\n",
       "      <td>0.5%</td>\n",
       "      <td>-3.8%</td>\n",
       "      <td>-4.7%</td>\n",
       "      <td>$2,028,139</td>\n",
       "      <td>$17,889,168</td>\n",
       "    </tr>\n",
       "    <tr>\n",
       "      <th>2</th>\n",
       "      <td>BitMart</td>\n",
       "      <td>$0.101433</td>\n",
       "      <td>0.1%</td>\n",
       "      <td>-1.0%</td>\n",
       "      <td>-1.9%</td>\n",
       "      <td>$2,157,416</td>\n",
       "      <td>$17,866,867</td>\n",
       "    </tr>\n",
       "    <tr>\n",
       "      <th>3</th>\n",
       "      <td>PIP</td>\n",
       "      <td>$0.206171</td>\n",
       "      <td>-1.3%</td>\n",
       "      <td>-12.0%</td>\n",
       "      <td>-12.0%</td>\n",
       "      <td>$906,718</td>\n",
       "      <td>$17,857,156</td>\n",
       "    </tr>\n",
       "    <tr>\n",
       "      <th>4</th>\n",
       "      <td>Rarible</td>\n",
       "      <td>$1.53</td>\n",
       "      <td>-2.1%</td>\n",
       "      <td>-1.6%</td>\n",
       "      <td>-4.4%</td>\n",
       "      <td>$87,511.83</td>\n",
       "      <td>$17,770,709</td>\n",
       "    </tr>\n",
       "  </tbody>\n",
       "</table>\n",
       "</div>"
      ],
      "text/plain": [
       "              name            price change_1h change_24h change_7d  \\\n",
       "0  Newscrypto Coin        $0.121698      1.2%      -4.7%    -30.5%   \n",
       "1             Ooki  $0.004013587468      0.5%      -3.8%     -4.7%   \n",
       "2          BitMart        $0.101433      0.1%      -1.0%     -1.9%   \n",
       "3              PIP        $0.206171     -1.3%     -12.0%    -12.0%   \n",
       "4          Rarible            $1.53     -2.1%      -1.6%     -4.4%   \n",
       "\n",
       "       volume   market_cap  \n",
       "0  $1,506,663  $17,889,562  \n",
       "1  $2,028,139  $17,889,168  \n",
       "2  $2,157,416  $17,866,867  \n",
       "3    $906,718  $17,857,156  \n",
       "4  $87,511.83  $17,770,709  "
      ]
     },
     "execution_count": 7,
     "metadata": {},
     "output_type": "execute_result"
    }
   ],
   "source": [
    "dfs.head()"
   ]
  },
  {
   "cell_type": "code",
   "execution_count": null,
   "id": "eda59022",
   "metadata": {},
   "outputs": [],
   "source": []
  }
 ],
 "metadata": {
  "kernelspec": {
   "display_name": "dsls",
   "language": "python",
   "name": "dsls"
  },
  "language_info": {
   "codemirror_mode": {
    "name": "ipython",
    "version": 3
   },
   "file_extension": ".py",
   "mimetype": "text/x-python",
   "name": "python",
   "nbconvert_exporter": "python",
   "pygments_lexer": "ipython3",
   "version": "3.10.4"
  }
 },
 "nbformat": 4,
 "nbformat_minor": 5
}
