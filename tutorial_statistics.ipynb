{
 "cells": [
  {
   "cell_type": "markdown",
   "id": "outside-reliance",
   "metadata": {},
   "source": [
    "# Statistics in Python\n",
    "\n",
    "This is a brief overview of statistics in python. In data science we always inspect our data using descriptive statistics and descriptive plots. Such statistics can be used of course for visualisations or dashboards as well. The statistical analysis can be done with a number of tests, depending on the characteristics of the data and the research question to be answered. This notebook refers to the most important ones\n",
    "\n",
    "- Practical: [Descriptive statistics](#0)\n",
    "- Graphical: [Descriptive plots](#1)\n",
    "- Analytical: [Statistical analysis](#2)"
   ]
  },
  {
   "cell_type": "code",
   "execution_count": 1,
   "id": "dominican-richardson",
   "metadata": {},
   "outputs": [],
   "source": [
    "#import libraries\n",
    "import numpy as np\n",
    "import pandas as pd\n",
    "#import scipy \n",
    "#import statsmodels"
   ]
  },
  {
   "cell_type": "markdown",
   "id": "social-patch",
   "metadata": {},
   "source": [
    "<a name='0'></a>\n",
    "## Descriptive statistics"
   ]
  },
  {
   "cell_type": "markdown",
   "id": "collaborative-antigua",
   "metadata": {},
   "source": [
    "Let us create some data for demonstration purpose. We will put the data in a pandas dataframe since pandas has some nice numpy methods built ins, like `mean()`, `sum()`, `max()`,`min()` etc. It can even deliver the descriptive statistics at once with `describe()`"
   ]
  },
  {
   "cell_type": "code",
   "execution_count": 2,
   "id": "fitting-killing",
   "metadata": {},
   "outputs": [],
   "source": [
    "#series of values with weights\n",
    "x = [8.0, 1, 2.5, 4, 28.0]\n",
    "w = [0.1, 0.2, 0.3, 0.25, 0.15]\n",
    "X = pd.DataFrame({'measurement':x, 'weights':w})"
   ]
  },
  {
   "cell_type": "code",
   "execution_count": 3,
   "id": "documentary-scottish",
   "metadata": {},
   "outputs": [
    {
     "name": "stdout",
     "output_type": "stream",
     "text": [
      "8.7\n",
      "8.7\n"
     ]
    }
   ],
   "source": [
    "print((1 + 2.5 + 4 + 8 + 28) / 5 )\n",
    "print(X.measurement.mean())"
   ]
  },
  {
   "cell_type": "code",
   "execution_count": 4,
   "id": "bacterial-assumption",
   "metadata": {},
   "outputs": [
    {
     "name": "stdout",
     "output_type": "stream",
     "text": [
      "43.5\n",
      "43.5\n"
     ]
    }
   ],
   "source": [
    "print((1 + 2.5 + 4 + 8 + 28))\n",
    "print(X.measurement.sum())"
   ]
  },
  {
   "cell_type": "code",
   "execution_count": 5,
   "id": "liked-orlando",
   "metadata": {},
   "outputs": [
    {
     "data": {
      "text/plain": [
       "1.0"
      ]
     },
     "execution_count": 5,
     "metadata": {},
     "output_type": "execute_result"
    }
   ],
   "source": [
    "X.measurement.min()"
   ]
  },
  {
   "cell_type": "code",
   "execution_count": 6,
   "id": "sunrise-directive",
   "metadata": {},
   "outputs": [
    {
     "data": {
      "text/plain": [
       "28.0"
      ]
     },
     "execution_count": 6,
     "metadata": {},
     "output_type": "execute_result"
    }
   ],
   "source": [
    "X.measurement.max()"
   ]
  },
  {
   "cell_type": "code",
   "execution_count": 7,
   "id": "corresponding-shock",
   "metadata": {},
   "outputs": [
    {
     "data": {
      "text/plain": [
       "11.099549540409285"
      ]
     },
     "execution_count": 7,
     "metadata": {},
     "output_type": "execute_result"
    }
   ],
   "source": [
    "X.measurement.std()"
   ]
  },
  {
   "cell_type": "code",
   "execution_count": 8,
   "id": "postal-holocaust",
   "metadata": {},
   "outputs": [
    {
     "data": {
      "text/plain": [
       "4.0"
      ]
     },
     "execution_count": 8,
     "metadata": {},
     "output_type": "execute_result"
    }
   ],
   "source": [
    "X.measurement.median()"
   ]
  },
  {
   "cell_type": "code",
   "execution_count": 9,
   "id": "amateur-nicholas",
   "metadata": {},
   "outputs": [
    {
     "name": "stdout",
     "output_type": "stream",
     "text": [
      "6.95\n",
      "6.95\n"
     ]
    }
   ],
   "source": [
    "#weighted average\n",
    "print((8 * 0.1 + 1 * 0.2 + 2.5 * 0.3 + 4 * 0.25 + 28 * 0.15))\n",
    "print(np.average(X['measurement'], weights=X['weights']))"
   ]
  },
  {
   "cell_type": "code",
   "execution_count": 10,
   "id": "executive-forwarding",
   "metadata": {},
   "outputs": [
    {
     "data": {
      "text/html": [
       "<div>\n",
       "<style scoped>\n",
       "    .dataframe tbody tr th:only-of-type {\n",
       "        vertical-align: middle;\n",
       "    }\n",
       "\n",
       "    .dataframe tbody tr th {\n",
       "        vertical-align: top;\n",
       "    }\n",
       "\n",
       "    .dataframe thead th {\n",
       "        text-align: right;\n",
       "    }\n",
       "</style>\n",
       "<table border=\"1\" class=\"dataframe\">\n",
       "  <thead>\n",
       "    <tr style=\"text-align: right;\">\n",
       "      <th></th>\n",
       "      <th>measurement</th>\n",
       "      <th>weights</th>\n",
       "    </tr>\n",
       "  </thead>\n",
       "  <tbody>\n",
       "    <tr>\n",
       "      <th>count</th>\n",
       "      <td>5.00000</td>\n",
       "      <td>5.000000</td>\n",
       "    </tr>\n",
       "    <tr>\n",
       "      <th>mean</th>\n",
       "      <td>8.70000</td>\n",
       "      <td>0.200000</td>\n",
       "    </tr>\n",
       "    <tr>\n",
       "      <th>std</th>\n",
       "      <td>11.09955</td>\n",
       "      <td>0.079057</td>\n",
       "    </tr>\n",
       "    <tr>\n",
       "      <th>min</th>\n",
       "      <td>1.00000</td>\n",
       "      <td>0.100000</td>\n",
       "    </tr>\n",
       "    <tr>\n",
       "      <th>25%</th>\n",
       "      <td>2.50000</td>\n",
       "      <td>0.150000</td>\n",
       "    </tr>\n",
       "    <tr>\n",
       "      <th>50%</th>\n",
       "      <td>4.00000</td>\n",
       "      <td>0.200000</td>\n",
       "    </tr>\n",
       "    <tr>\n",
       "      <th>75%</th>\n",
       "      <td>8.00000</td>\n",
       "      <td>0.250000</td>\n",
       "    </tr>\n",
       "    <tr>\n",
       "      <th>max</th>\n",
       "      <td>28.00000</td>\n",
       "      <td>0.300000</td>\n",
       "    </tr>\n",
       "  </tbody>\n",
       "</table>\n",
       "</div>"
      ],
      "text/plain": [
       "       measurement   weights\n",
       "count      5.00000  5.000000\n",
       "mean       8.70000  0.200000\n",
       "std       11.09955  0.079057\n",
       "min        1.00000  0.100000\n",
       "25%        2.50000  0.150000\n",
       "50%        4.00000  0.200000\n",
       "75%        8.00000  0.250000\n",
       "max       28.00000  0.300000"
      ]
     },
     "execution_count": 10,
     "metadata": {},
     "output_type": "execute_result"
    }
   ],
   "source": [
    "X.describe()"
   ]
  },
  {
   "cell_type": "code",
   "execution_count": 11,
   "id": "green-stock",
   "metadata": {
    "scrolled": true
   },
   "outputs": [
    {
     "data": {
      "text/html": [
       "<div>\n",
       "<style scoped>\n",
       "    .dataframe tbody tr th:only-of-type {\n",
       "        vertical-align: middle;\n",
       "    }\n",
       "\n",
       "    .dataframe tbody tr th {\n",
       "        vertical-align: top;\n",
       "    }\n",
       "\n",
       "    .dataframe thead th {\n",
       "        text-align: right;\n",
       "    }\n",
       "</style>\n",
       "<table border=\"1\" class=\"dataframe\">\n",
       "  <thead>\n",
       "    <tr style=\"text-align: right;\">\n",
       "      <th></th>\n",
       "      <th>count</th>\n",
       "      <th>mean</th>\n",
       "      <th>std</th>\n",
       "    </tr>\n",
       "  </thead>\n",
       "  <tbody>\n",
       "    <tr>\n",
       "      <th>measurement</th>\n",
       "      <td>5.0</td>\n",
       "      <td>8.7</td>\n",
       "      <td>11.10</td>\n",
       "    </tr>\n",
       "    <tr>\n",
       "      <th>weights</th>\n",
       "      <td>5.0</td>\n",
       "      <td>0.2</td>\n",
       "      <td>0.08</td>\n",
       "    </tr>\n",
       "  </tbody>\n",
       "</table>\n",
       "</div>"
      ],
      "text/plain": [
       "             count  mean    std\n",
       "measurement    5.0   8.7  11.10\n",
       "weights        5.0   0.2   0.08"
      ]
     },
     "execution_count": 11,
     "metadata": {},
     "output_type": "execute_result"
    }
   ],
   "source": [
    "nice_table = X.describe().T.round(2)\n",
    "nice_table[['count', 'mean', 'std']]"
   ]
  },
  {
   "cell_type": "markdown",
   "id": "interior-cartridge",
   "metadata": {},
   "source": [
    "<a name='1'></a>\n",
    "## Decriptive plots\n",
    "\n",
    "We can also use the built in plots for our explatory data analyses. Like `boxplot()`, `hist()`, `plot.kde()` or just `plot()`. Seaborn has some nice plots as well"
   ]
  },
  {
   "cell_type": "code",
   "execution_count": 12,
   "id": "referenced-lesson",
   "metadata": {},
   "outputs": [
    {
     "data": {
      "text/plain": [
       "<AxesSubplot:>"
      ]
     },
     "execution_count": 12,
     "metadata": {},
     "output_type": "execute_result"
    },
    {
     "data": {
      "image/png": "[encoded data removed]",
      "text/plain": [
       "<Figure size 432x288 with 1 Axes>"
      ]
     },
     "metadata": {
      "needs_background": "light"
     },
     "output_type": "display_data"
    }
   ],
   "source": [
    "# boxplot for outlier check\n",
    "X.boxplot()"
   ]
  },
  {
   "cell_type": "code",
   "execution_count": 18,
   "id": "welcome-balloon",
   "metadata": {},
   "outputs": [
    {
     "data": {
      "text/plain": [
       "<AxesSubplot:>"
      ]
     },
     "execution_count": 18,
     "metadata": {},
     "output_type": "execute_result"
    },
    {
     "data": {
      "image/png": "[encoded data removed]",
      "text/plain": [
       "<Figure size 432x288 with 1 Axes>"
      ]
     },
     "metadata": {
      "needs_background": "light"
     },
     "output_type": "display_data"
    }
   ],
   "source": [
    "#check distribution of data\n",
    "X['measurement'].hist()"
   ]
  },
  {
   "cell_type": "code",
   "execution_count": 14,
   "id": "minus-italic",
   "metadata": {},
   "outputs": [
    {
     "data": {
      "text/plain": [
       "<AxesSubplot:ylabel='Density'>"
      ]
     },
     "execution_count": 14,
     "metadata": {},
     "output_type": "execute_result"
    },
    {
     "data": {
      "image/png": "[encoded data removed]",
      "text/plain": [
       "<Figure size 432x288 with 1 Axes>"
      ]
     },
     "metadata": {
      "needs_background": "light"
     },
     "output_type": "display_data"
    }
   ],
   "source": [
    "#check distribution for normality\n",
    "X['measurement'].plot.kde()"
   ]
  },
  {
   "cell_type": "code",
   "execution_count": 15,
   "id": "fossil-modeling",
   "metadata": {},
   "outputs": [
    {
     "data": {
      "image/png": "[encoded data removed]",
      "text/plain": [
       "<Figure size 432x288 with 1 Axes>"
      ]
     },
     "metadata": {
      "needs_background": "light"
     },
     "output_type": "display_data"
    }
   ],
   "source": [
    "#check normality with qqplot\n",
    "from statsmodels.graphics.gofplots import qqplot\n",
    "from matplotlib import pyplot\n",
    "qqplot(X['measurement'], line='s')\n",
    "pyplot.show()"
   ]
  },
  {
   "cell_type": "code",
   "execution_count": 19,
   "id": "measured-basis",
   "metadata": {
    "scrolled": true
   },
   "outputs": [
    {
     "data": {
      "text/plain": [
       "<AxesSubplot:>"
      ]
     },
     "execution_count": 19,
     "metadata": {},
     "output_type": "execute_result"
    },
    {
     "data": {
      "image/png": "[encoded data removed]",
      "text/plain": [
       "<Figure size 432x288 with 1 Axes>"
      ]
     },
     "metadata": {
      "needs_background": "light"
     },
     "output_type": "display_data"
    }
   ],
   "source": [
    "#plot to see time effect\n",
    "X['measurement'].plot()"
   ]
  },
  {
   "cell_type": "markdown",
   "id": "honey-installation",
   "metadata": {},
   "source": [
    "<a name='2'></a>\n",
    "## Analytical statistics"
   ]
  },
  {
   "cell_type": "markdown",
   "id": "contemporary-renewal",
   "metadata": {},
   "source": [
    "\n",
    "### Normality check with Shapiro-Wilk Test"
   ]
  },
  {
   "cell_type": "markdown",
   "id": "expressed-delay",
   "metadata": {},
   "source": [
    "It is good practice to check for normality. The Shapiro-Wilk Test is a good test for checking normality"
   ]
  },
  {
   "cell_type": "code",
   "execution_count": 17,
   "id": "blocked-nutrition",
   "metadata": {},
   "outputs": [
    {
     "name": "stdout",
     "output_type": "stream",
     "text": [
      "Statistics=0.754, p=0.032\n",
      "Sample does not look Gaussian (reject H0)\n"
     ]
    }
   ],
   "source": [
    "from scipy.stats import shapiro\n",
    "# normality test\n",
    "stat, p = shapiro(X['measurement'])\n",
    "print('Statistics=%.3f, p=%.3f' % (stat, p))\n",
    "# interpret\n",
    "alpha = 0.05\n",
    "if p > alpha:\n",
    "    print('Sample looks Gaussian (fail to reject H0)')\n",
    "else:\n",
    "    print('Sample does not look Gaussian (reject H0)')"
   ]
  },
  {
   "cell_type": "markdown",
   "id": "informal-browse",
   "metadata": {},
   "source": [
    "source: https://machinelearningmastery.com/statistical-hypothesis-tests-in-python-cheat-sheet/"
   ]
  },
  {
   "cell_type": "markdown",
   "id": "pharmaceutical-register",
   "metadata": {},
   "source": [
    "### More statistics\n",
    "\n",
    "There are a number of cheatsheets and tutorials on the internet. The next overview is a compact overview of tutorials"
   ]
  },
  {
   "cell_type": "markdown",
   "id": "ahead-restaurant",
   "metadata": {},
   "source": [
    "- https://www.kaggle.com/hamelg/python-for-data-21-descriptive-statistics\n",
    "- https://www.kaggle.com/hamelg/python-for-data-22-probability-distributions\n",
    "- https://www.kaggle.com/hamelg/python-for-data-23-confidence-intervals\n",
    "- https://www.kaggle.com/hamelg/python-for-data-24-hypothesis-testing\n",
    "- https://www.kaggle.com/hamelg/python-for-data-25-chi-squared-tests\n",
    "- https://www.kaggle.com/hamelg/python-for-data-26-anova/notebook\n",
    "- https://www.kaggle.com/hamelg/python-for-data-27-linear-regression"
   ]
  }
 ],
 "metadata": {
  "kernelspec": {
   "display_name": "ITANN",
   "language": "python",
   "name": "itann"
  },
  "language_info": {
   "codemirror_mode": {
    "name": "ipython",
    "version": 3
   },
   "file_extension": ".py",
   "mimetype": "text/x-python",
   "name": "python",
   "nbconvert_exporter": "python",
   "pygments_lexer": "ipython3",
   "version": "3.9.7"
  }
 },
 "nbformat": 4,
 "nbformat_minor": 5
}
