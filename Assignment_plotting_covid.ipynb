{
 "cells": [
  {
   "cell_type": "markdown",
   "metadata": {},
   "source": [
    "# Plotting Corona virus\n",
    "\n",
    "Er zijn verschillende websites die visualisaties maken van het corona virus. Een bekende is \n",
    "\n",
    "https://gisanddata.maps.arcgis.com/apps/opsdashboard/index.html#/bda7594740fd40299423467b48e9ecf6\n",
    "\n",
    "Maar hoe wordt die gemaakt? In dit notebook kijken we naar verschillende visualisaties van het virus. Data kun je vinden op \n",
    "\n",
    "https://github.com/CSSEGISandData/COVID-19/tree/master/csse_covid_19_data\n"
   ]
  },
  {
   "cell_type": "code",
   "execution_count": 1,
   "metadata": {},
   "outputs": [],
   "source": [
    "import pandas as pd\n",
    "import numpy as np\n",
    "import matplotlib.pyplot as plt\n",
    "import warnings\n",
    "from matplotlib.ticker import NullFormatter\n",
    "from matplotlib.dates import MonthLocator, DateFormatter\n",
    "import geopandas as gpd"
   ]
  },
  {
   "cell_type": "markdown",
   "metadata": {},
   "source": [
    "## Lees de data\n",
    "\n",
    "Allereerst lezen we de data. De data is in csv format op het internet. Als we de url opgeven inclusief de naam van het bestand kan pandas dat inlezen. \n"
   ]
  },
  {
   "cell_type": "code",
   "execution_count": 2,
   "metadata": {
    "scrolled": false
   },
   "outputs": [
    {
     "data": {
      "text/html": [
       "<div>\n",
       "<style scoped>\n",
       "    .dataframe tbody tr th:only-of-type {\n",
       "        vertical-align: middle;\n",
       "    }\n",
       "\n",
       "    .dataframe tbody tr th {\n",
       "        vertical-align: top;\n",
       "    }\n",
       "\n",
       "    .dataframe thead th {\n",
       "        text-align: right;\n",
       "    }\n",
       "</style>\n",
       "<table border=\"1\" class=\"dataframe\">\n",
       "  <thead>\n",
       "    <tr style=\"text-align: right;\">\n",
       "      <th></th>\n",
       "      <th>Province/State</th>\n",
       "      <th>Country/Region</th>\n",
       "      <th>Last Update</th>\n",
       "      <th>Confirmed</th>\n",
       "      <th>Deaths</th>\n",
       "      <th>Recovered</th>\n",
       "      <th>Latitude</th>\n",
       "      <th>Longitude</th>\n",
       "    </tr>\n",
       "  </thead>\n",
       "  <tbody>\n",
       "    <tr>\n",
       "      <th>0</th>\n",
       "      <td>Hubei</td>\n",
       "      <td>China</td>\n",
       "      <td>2020-03-11T10:53:02</td>\n",
       "      <td>67773</td>\n",
       "      <td>3046</td>\n",
       "      <td>49134</td>\n",
       "      <td>30.9756</td>\n",
       "      <td>112.2707</td>\n",
       "    </tr>\n",
       "    <tr>\n",
       "      <th>1</th>\n",
       "      <td>NaN</td>\n",
       "      <td>Italy</td>\n",
       "      <td>2020-03-11T21:33:02</td>\n",
       "      <td>12462</td>\n",
       "      <td>827</td>\n",
       "      <td>1045</td>\n",
       "      <td>43.0000</td>\n",
       "      <td>12.0000</td>\n",
       "    </tr>\n",
       "    <tr>\n",
       "      <th>2</th>\n",
       "      <td>NaN</td>\n",
       "      <td>Iran</td>\n",
       "      <td>2020-03-11T18:52:03</td>\n",
       "      <td>9000</td>\n",
       "      <td>354</td>\n",
       "      <td>2959</td>\n",
       "      <td>32.0000</td>\n",
       "      <td>53.0000</td>\n",
       "    </tr>\n",
       "    <tr>\n",
       "      <th>3</th>\n",
       "      <td>NaN</td>\n",
       "      <td>Korea, South</td>\n",
       "      <td>2020-03-11T21:13:18</td>\n",
       "      <td>7755</td>\n",
       "      <td>60</td>\n",
       "      <td>288</td>\n",
       "      <td>36.0000</td>\n",
       "      <td>128.0000</td>\n",
       "    </tr>\n",
       "    <tr>\n",
       "      <th>4</th>\n",
       "      <td>France</td>\n",
       "      <td>France</td>\n",
       "      <td>2020-03-11T22:53:03</td>\n",
       "      <td>2281</td>\n",
       "      <td>48</td>\n",
       "      <td>12</td>\n",
       "      <td>46.2276</td>\n",
       "      <td>2.2137</td>\n",
       "    </tr>\n",
       "  </tbody>\n",
       "</table>\n",
       "</div>"
      ],
      "text/plain": [
       "  Province/State Country/Region          Last Update  Confirmed  Deaths  \\\n",
       "0          Hubei          China  2020-03-11T10:53:02      67773    3046   \n",
       "1            NaN          Italy  2020-03-11T21:33:02      12462     827   \n",
       "2            NaN           Iran  2020-03-11T18:52:03       9000     354   \n",
       "3            NaN   Korea, South  2020-03-11T21:13:18       7755      60   \n",
       "4         France         France  2020-03-11T22:53:03       2281      48   \n",
       "\n",
       "   Recovered  Latitude  Longitude  \n",
       "0      49134   30.9756   112.2707  \n",
       "1       1045   43.0000    12.0000  \n",
       "2       2959   32.0000    53.0000  \n",
       "3        288   36.0000   128.0000  \n",
       "4         12   46.2276     2.2137  "
      ]
     },
     "execution_count": 2,
     "metadata": {},
     "output_type": "execute_result"
    }
   ],
   "source": [
    "url = \"https://raw.githubusercontent.com/CSSEGISandData/COVID-19/master/csse_covid_19_data/csse_covid_19_daily_reports/03-11-2020.csv\"\n",
    "data = pd.read_csv(url)\n",
    "data.head()"
   ]
  },
  {
   "cell_type": "markdown",
   "metadata": {},
   "source": [
    "## Plotten geomap\n",
    "\n",
    "Let op: In windows in Geo map soms moeilijk te installeren. Sla dit stuk dan over\n",
    "\n",
    "De data bevat geometrische data (locatie longitude en latitude) en data over aantallen. Dit gaan we gebruiken voor een geop visualisatie met geopandas. De wereldkaart zelf halen we ook uit geopandas"
   ]
  },
  {
   "cell_type": "code",
   "execution_count": 3,
   "metadata": {},
   "outputs": [],
   "source": [
    "#lat = np.array(data['Latitude'])\n",
    "#long = np.array(data['Longitude'])\n",
    "#size = np.array(data['Confirmed'])\n",
    "#zipped = zip(long, lat, size)"
   ]
  },
  {
   "cell_type": "code",
   "execution_count": 4,
   "metadata": {},
   "outputs": [
    {
     "data": {
      "text/html": [
       "<div>\n",
       "<style scoped>\n",
       "    .dataframe tbody tr th:only-of-type {\n",
       "        vertical-align: middle;\n",
       "    }\n",
       "\n",
       "    .dataframe tbody tr th {\n",
       "        vertical-align: top;\n",
       "    }\n",
       "\n",
       "    .dataframe thead th {\n",
       "        text-align: right;\n",
       "    }\n",
       "</style>\n",
       "<table border=\"1\" class=\"dataframe\">\n",
       "  <thead>\n",
       "    <tr style=\"text-align: right;\">\n",
       "      <th></th>\n",
       "      <th>pop_est</th>\n",
       "      <th>continent</th>\n",
       "      <th>name</th>\n",
       "      <th>iso_a3</th>\n",
       "      <th>gdp_md_est</th>\n",
       "      <th>geometry</th>\n",
       "    </tr>\n",
       "  </thead>\n",
       "  <tbody>\n",
       "    <tr>\n",
       "      <th>0</th>\n",
       "      <td>920938</td>\n",
       "      <td>Oceania</td>\n",
       "      <td>Fiji</td>\n",
       "      <td>FJI</td>\n",
       "      <td>8374.0</td>\n",
       "      <td>MULTIPOLYGON (((180.00000 -16.06713, 180.00000...</td>\n",
       "    </tr>\n",
       "    <tr>\n",
       "      <th>1</th>\n",
       "      <td>53950935</td>\n",
       "      <td>Africa</td>\n",
       "      <td>Tanzania</td>\n",
       "      <td>TZA</td>\n",
       "      <td>150600.0</td>\n",
       "      <td>POLYGON ((33.90371 -0.95000, 34.07262 -1.05982...</td>\n",
       "    </tr>\n",
       "    <tr>\n",
       "      <th>2</th>\n",
       "      <td>603253</td>\n",
       "      <td>Africa</td>\n",
       "      <td>W. Sahara</td>\n",
       "      <td>ESH</td>\n",
       "      <td>906.5</td>\n",
       "      <td>POLYGON ((-8.66559 27.65643, -8.66512 27.58948...</td>\n",
       "    </tr>\n",
       "    <tr>\n",
       "      <th>3</th>\n",
       "      <td>35623680</td>\n",
       "      <td>North America</td>\n",
       "      <td>Canada</td>\n",
       "      <td>CAN</td>\n",
       "      <td>1674000.0</td>\n",
       "      <td>MULTIPOLYGON (((-122.84000 49.00000, -122.9742...</td>\n",
       "    </tr>\n",
       "    <tr>\n",
       "      <th>4</th>\n",
       "      <td>326625791</td>\n",
       "      <td>North America</td>\n",
       "      <td>United States of America</td>\n",
       "      <td>USA</td>\n",
       "      <td>18560000.0</td>\n",
       "      <td>MULTIPOLYGON (((-122.84000 49.00000, -120.0000...</td>\n",
       "    </tr>\n",
       "  </tbody>\n",
       "</table>\n",
       "</div>"
      ],
      "text/plain": [
       "     pop_est      continent                      name iso_a3  gdp_md_est  \\\n",
       "0     920938        Oceania                      Fiji    FJI      8374.0   \n",
       "1   53950935         Africa                  Tanzania    TZA    150600.0   \n",
       "2     603253         Africa                 W. Sahara    ESH       906.5   \n",
       "3   35623680  North America                    Canada    CAN   1674000.0   \n",
       "4  326625791  North America  United States of America    USA  18560000.0   \n",
       "\n",
       "                                            geometry  \n",
       "0  MULTIPOLYGON (((180.00000 -16.06713, 180.00000...  \n",
       "1  POLYGON ((33.90371 -0.95000, 34.07262 -1.05982...  \n",
       "2  POLYGON ((-8.66559 27.65643, -8.66512 27.58948...  \n",
       "3  MULTIPOLYGON (((-122.84000 49.00000, -122.9742...  \n",
       "4  MULTIPOLYGON (((-122.84000 49.00000, -120.0000...  "
      ]
     },
     "execution_count": 4,
     "metadata": {},
     "output_type": "execute_result"
    }
   ],
   "source": [
    "countries = gpd.read_file(\n",
    "               gpd.datasets.get_path(\"naturalearth_lowres\"))\n",
    "countries.head()"
   ]
  },
  {
   "cell_type": "code",
   "execution_count": 5,
   "metadata": {
    "scrolled": true
   },
   "outputs": [
    {
     "data": {
      "text/plain": [
       "<AxesSubplot:>"
      ]
     },
     "execution_count": 5,
     "metadata": {},
     "output_type": "execute_result"
    },
    {
     "data": {
      "image/png": "[encoded data removed]",
      "text/plain": [
       "<Figure size 432x288 with 1 Axes>"
      ]
     },
     "metadata": {
      "needs_background": "light"
     },
     "output_type": "display_data"
    }
   ],
   "source": [
    "countries.plot(color=\"lightgrey\")"
   ]
  },
  {
   "cell_type": "markdown",
   "metadata": {},
   "source": [
    "Om de data over elkaar heen te plotten gebruiken we het principe van meerdere objecten op de canvas (figure, ax)"
   ]
  },
  {
   "cell_type": "code",
   "execution_count": 6,
   "metadata": {},
   "outputs": [
    {
     "data": {
      "image/png": "[encoded data removed]",
      "text/plain": [
       "<Figure size 432x288 with 1 Axes>"
      ]
     },
     "metadata": {
      "needs_background": "light"
     },
     "output_type": "display_data"
    }
   ],
   "source": [
    "# initialize an axis\n",
    "fig, ax = plt.subplots()\n",
    "# plot map on axis\n",
    "countries = gpd.read_file(  \n",
    "     gpd.datasets.get_path(\"naturalearth_lowres\"))\n",
    "\n",
    "countries.plot(color=\"lightgrey\", ax=ax)\n",
    "# plot points\n",
    "data.plot(x=\"Longitude\", y=\"Latitude\", kind=\"scatter\", \n",
    "        color = 'red', s=\"Deaths\", alpha=0.5,\n",
    "        ax=ax, title = \"Covid Deaths\")\n",
    "plt.show()# initialize an axis\n"
   ]
  },
  {
   "cell_type": "markdown",
   "metadata": {},
   "source": [
    "Dit is natuurlijk een interessante visualisatie maar er is nog veel meer te inspecteren. \n",
    "\n",
    "## Opdracht plotjes\n",
    "\n",
    "maak een violin plot van een variable van 4 landen. Hints: kijk bij https://fennaf.gitbook.io/dataprocessing/data-inspection/melt"
   ]
  },
  {
   "cell_type": "code",
   "execution_count": 7,
   "metadata": {},
   "outputs": [],
   "source": [
    "#Your code here"
   ]
  },
  {
   "cell_type": "markdown",
   "metadata": {},
   "source": [
    "## Time series\n",
    "Laten we eens naar de time series data kijken"
   ]
  },
  {
   "cell_type": "code",
   "execution_count": 8,
   "metadata": {},
   "outputs": [],
   "source": [
    "#Allereerst laden we de data"
   ]
  },
  {
   "cell_type": "code",
   "execution_count": 9,
   "metadata": {},
   "outputs": [
    {
     "data": {
      "text/html": [
       "<div>\n",
       "<style scoped>\n",
       "    .dataframe tbody tr th:only-of-type {\n",
       "        vertical-align: middle;\n",
       "    }\n",
       "\n",
       "    .dataframe tbody tr th {\n",
       "        vertical-align: top;\n",
       "    }\n",
       "\n",
       "    .dataframe thead th {\n",
       "        text-align: right;\n",
       "    }\n",
       "</style>\n",
       "<table border=\"1\" class=\"dataframe\">\n",
       "  <thead>\n",
       "    <tr style=\"text-align: right;\">\n",
       "      <th></th>\n",
       "      <th>Province/State</th>\n",
       "      <th>Country/Region</th>\n",
       "      <th>Lat</th>\n",
       "      <th>Long</th>\n",
       "      <th>1/22/20</th>\n",
       "      <th>1/23/20</th>\n",
       "      <th>1/24/20</th>\n",
       "      <th>1/25/20</th>\n",
       "      <th>1/26/20</th>\n",
       "      <th>1/27/20</th>\n",
       "      <th>...</th>\n",
       "      <th>9/26/21</th>\n",
       "      <th>9/27/21</th>\n",
       "      <th>9/28/21</th>\n",
       "      <th>9/29/21</th>\n",
       "      <th>9/30/21</th>\n",
       "      <th>10/1/21</th>\n",
       "      <th>10/2/21</th>\n",
       "      <th>10/3/21</th>\n",
       "      <th>10/4/21</th>\n",
       "      <th>10/5/21</th>\n",
       "    </tr>\n",
       "  </thead>\n",
       "  <tbody>\n",
       "    <tr>\n",
       "      <th>197</th>\n",
       "      <td>NaN</td>\n",
       "      <td>Netherlands</td>\n",
       "      <td>52.1326</td>\n",
       "      <td>5.2913</td>\n",
       "      <td>0</td>\n",
       "      <td>0</td>\n",
       "      <td>0</td>\n",
       "      <td>0</td>\n",
       "      <td>0</td>\n",
       "      <td>0</td>\n",
       "      <td>...</td>\n",
       "      <td>1996498</td>\n",
       "      <td>1997885</td>\n",
       "      <td>1999592</td>\n",
       "      <td>2001347</td>\n",
       "      <td>2003050</td>\n",
       "      <td>2004763</td>\n",
       "      <td>2006421</td>\n",
       "      <td>2008024</td>\n",
       "      <td>2009648</td>\n",
       "      <td>2011530</td>\n",
       "    </tr>\n",
       "    <tr>\n",
       "      <th>198</th>\n",
       "      <td>Cook Islands</td>\n",
       "      <td>New Zealand</td>\n",
       "      <td>-21.2367</td>\n",
       "      <td>-159.7777</td>\n",
       "      <td>0</td>\n",
       "      <td>0</td>\n",
       "      <td>0</td>\n",
       "      <td>0</td>\n",
       "      <td>0</td>\n",
       "      <td>0</td>\n",
       "      <td>...</td>\n",
       "      <td>1</td>\n",
       "      <td>1</td>\n",
       "      <td>1</td>\n",
       "      <td>1</td>\n",
       "      <td>1</td>\n",
       "      <td>1</td>\n",
       "      <td>1</td>\n",
       "      <td>1</td>\n",
       "      <td>1</td>\n",
       "      <td>1</td>\n",
       "    </tr>\n",
       "  </tbody>\n",
       "</table>\n",
       "<p>2 rows × 627 columns</p>\n",
       "</div>"
      ],
      "text/plain": [
       "    Province/State Country/Region      Lat      Long  1/22/20  1/23/20  \\\n",
       "197            NaN    Netherlands  52.1326    5.2913        0        0   \n",
       "198   Cook Islands    New Zealand -21.2367 -159.7777        0        0   \n",
       "\n",
       "     1/24/20  1/25/20  1/26/20  1/27/20  ...  9/26/21  9/27/21  9/28/21  \\\n",
       "197        0        0        0        0  ...  1996498  1997885  1999592   \n",
       "198        0        0        0        0  ...        1        1        1   \n",
       "\n",
       "     9/29/21  9/30/21  10/1/21  10/2/21  10/3/21  10/4/21  10/5/21  \n",
       "197  2001347  2003050  2004763  2006421  2008024  2009648  2011530  \n",
       "198        1        1        1        1        1        1        1  \n",
       "\n",
       "[2 rows x 627 columns]"
      ]
     },
     "execution_count": 9,
     "metadata": {},
     "output_type": "execute_result"
    }
   ],
   "source": [
    "import pandas as pd\n",
    "import numpy as np\n",
    "url = 'https://raw.githubusercontent.com/CSSEGISandData/COVID-19/master/csse_covid_19_data/csse_covid_19_time_series/time_series_covid19_confirmed_global.csv'\n",
    "data_t = pd.read_csv(url)\n",
    "data_t.iloc[197:199]\n"
   ]
  },
  {
   "cell_type": "code",
   "execution_count": 10,
   "metadata": {},
   "outputs": [
    {
     "data": {
      "text/plain": [
       "1/22/20          0\n",
       "1/23/20          0\n",
       "1/24/20          0\n",
       "1/25/20          0\n",
       "1/26/20          0\n",
       "            ...   \n",
       "10/1/21    2004763\n",
       "10/2/21    2006421\n",
       "10/3/21    2008024\n",
       "10/4/21    2009648\n",
       "10/5/21    2011530\n",
       "Name: Netherlands, Length: 623, dtype: int64"
      ]
     },
     "execution_count": 10,
     "metadata": {},
     "output_type": "execute_result"
    }
   ],
   "source": [
    "data_t.index = data_t['Country/Region']\n",
    "data_t = data_t.drop('Province/State', axis = 1)\n",
    "data_t = data_t.drop('Country/Region', axis = 1)\n",
    "data_t = data_t.drop('Lat', axis = 1)\n",
    "data_t = data_t.drop('Long', axis = 1)\n",
    "data_t.iloc[197]"
   ]
  },
  {
   "cell_type": "code",
   "execution_count": 11,
   "metadata": {},
   "outputs": [
    {
     "data": {
      "image/png": "[encoded data removed]",
      "text/plain": [
       "<Figure size 432x288 with 1 Axes>"
      ]
     },
     "metadata": {
      "needs_background": "light"
     },
     "output_type": "display_data"
    }
   ],
   "source": [
    "# dan laden we x en y\n",
    "import matplotlib.pyplot as plt\n",
    "import warnings\n",
    "\n",
    "from matplotlib.ticker import NullFormatter\n",
    "from matplotlib.dates import DateFormatter\n",
    "\n",
    "x = data_t.columns.values.tolist()\n",
    "nl= np.array(data_t.iloc[197])\n",
    "plt.plot(x, nl, label=\"Nederland\")\n",
    "plt.legend()\n",
    "\n",
    "ax = plt.gca()\n",
    "ax.set_xlim([1.0, len(x)])\n",
    "\n",
    "import matplotlib.dates as mdates\n",
    "days = mdates.WeekdayLocator()\n",
    "daysFmt = mdates.DateFormatter('%m-%d')\n",
    "ax.xaxis.set_major_locator(days)\n",
    "ax.xaxis.set_major_formatter(daysFmt)\n",
    "\n",
    "plt.show()"
   ]
  },
  {
   "cell_type": "markdown",
   "metadata": {},
   "source": [
    "# Opdracht\n",
    "Maak de labels van de time series mooier. Plot ook Sweden"
   ]
  },
  {
   "cell_type": "code",
   "execution_count": 12,
   "metadata": {},
   "outputs": [],
   "source": [
    "#your code here"
   ]
  }
 ],
 "metadata": {
  "kernelspec": {
   "display_name": "ITANN",
   "language": "python",
   "name": "itann"
  },
  "language_info": {
   "codemirror_mode": {
    "name": "ipython",
    "version": 3
   },
   "file_extension": ".py",
   "mimetype": "text/x-python",
   "name": "python",
   "nbconvert_exporter": "python",
   "pygments_lexer": "ipython3",
   "version": "3.9.7"
  }
 },
 "nbformat": 4,
 "nbformat_minor": 4
}
