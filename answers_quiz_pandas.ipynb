{
 "cells": [
  {
   "cell_type": "markdown",
   "metadata": {},
   "source": [
    "## Exercize\n",
    "\n",
    "Download TB_burden_age_sex_2019-04-23.csv for 2017 from the site https://www.who.int/tb/country/data/download/en/. Save this file in your project folder. Open the file with `pd.read_csv()` method do the following cleaning\n",
    "\n",
    "- drop the collumns iso2, iso3, iso_numeric. \n",
    "- rename the collumn age_group to age"
   ]
  },
  {
   "cell_type": "code",
   "execution_count": 4,
   "metadata": {},
   "outputs": [
    {
     "data": {
      "text/html": [
       "<div>\n",
       "<style scoped>\n",
       "    .dataframe tbody tr th:only-of-type {\n",
       "        vertical-align: middle;\n",
       "    }\n",
       "\n",
       "    .dataframe tbody tr th {\n",
       "        vertical-align: top;\n",
       "    }\n",
       "\n",
       "    .dataframe thead th {\n",
       "        text-align: right;\n",
       "    }\n",
       "</style>\n",
       "<table border=\"1\" class=\"dataframe\">\n",
       "  <thead>\n",
       "    <tr style=\"text-align: right;\">\n",
       "      <th></th>\n",
       "      <th>country</th>\n",
       "      <th>year</th>\n",
       "      <th>measure</th>\n",
       "      <th>unit</th>\n",
       "      <th>age</th>\n",
       "      <th>sex</th>\n",
       "      <th>best</th>\n",
       "      <th>lo</th>\n",
       "      <th>hi</th>\n",
       "      <th>diff</th>\n",
       "    </tr>\n",
       "  </thead>\n",
       "  <tbody>\n",
       "    <tr>\n",
       "      <th>0</th>\n",
       "      <td>Afghanistan</td>\n",
       "      <td>2017</td>\n",
       "      <td>inc</td>\n",
       "      <td>num</td>\n",
       "      <td>0-14</td>\n",
       "      <td>a</td>\n",
       "      <td>7500</td>\n",
       "      <td>4300.0</td>\n",
       "      <td>11000.0</td>\n",
       "      <td>6700.0</td>\n",
       "    </tr>\n",
       "    <tr>\n",
       "      <th>1</th>\n",
       "      <td>Afghanistan</td>\n",
       "      <td>2017</td>\n",
       "      <td>inc</td>\n",
       "      <td>num</td>\n",
       "      <td>0-14</td>\n",
       "      <td>f</td>\n",
       "      <td>3600</td>\n",
       "      <td>1400.0</td>\n",
       "      <td>5800.0</td>\n",
       "      <td>4400.0</td>\n",
       "    </tr>\n",
       "    <tr>\n",
       "      <th>2</th>\n",
       "      <td>Afghanistan</td>\n",
       "      <td>2017</td>\n",
       "      <td>inc</td>\n",
       "      <td>num</td>\n",
       "      <td>0-14</td>\n",
       "      <td>m</td>\n",
       "      <td>4000</td>\n",
       "      <td>1500.0</td>\n",
       "      <td>6400.0</td>\n",
       "      <td>4900.0</td>\n",
       "    </tr>\n",
       "    <tr>\n",
       "      <th>3</th>\n",
       "      <td>Afghanistan</td>\n",
       "      <td>2017</td>\n",
       "      <td>inc</td>\n",
       "      <td>num</td>\n",
       "      <td>0-4</td>\n",
       "      <td>f</td>\n",
       "      <td>1800</td>\n",
       "      <td>0.0</td>\n",
       "      <td>4400.0</td>\n",
       "      <td>4400.0</td>\n",
       "    </tr>\n",
       "    <tr>\n",
       "      <th>4</th>\n",
       "      <td>Afghanistan</td>\n",
       "      <td>2017</td>\n",
       "      <td>inc</td>\n",
       "      <td>num</td>\n",
       "      <td>0-4</td>\n",
       "      <td>m</td>\n",
       "      <td>2200</td>\n",
       "      <td>0.0</td>\n",
       "      <td>5400.0</td>\n",
       "      <td>5400.0</td>\n",
       "    </tr>\n",
       "  </tbody>\n",
       "</table>\n",
       "</div>"
      ],
      "text/plain": [
       "       country  year measure unit   age sex  best      lo       hi    diff\n",
       "0  Afghanistan  2017     inc  num  0-14   a  7500  4300.0  11000.0  6700.0\n",
       "1  Afghanistan  2017     inc  num  0-14   f  3600  1400.0   5800.0  4400.0\n",
       "2  Afghanistan  2017     inc  num  0-14   m  4000  1500.0   6400.0  4900.0\n",
       "3  Afghanistan  2017     inc  num   0-4   f  1800     0.0   4400.0  4400.0\n",
       "4  Afghanistan  2017     inc  num   0-4   m  2200     0.0   5400.0  5400.0"
      ]
     },
     "execution_count": 4,
     "metadata": {},
     "output_type": "execute_result"
    }
   ],
   "source": [
    "import pandas as pd\n",
    "\n",
    "df = pd.read_csv('../data/TB_burden_age_sex_2019-04-23.csv')\n",
    "df = df.drop('iso2', axis = 1).drop('iso3', axis =1).drop('iso_numeric', axis=1)\n",
    "df = df.rename(columns = {'age_group':'age'})\n",
    "df['diff']= df['hi'] - df['lo']\n",
    "df.head()"
   ]
  },
  {
   "cell_type": "markdown",
   "metadata": {},
   "source": [
    "### Question 0 (Example)\n",
    "\n",
    "What is the first country in df? This function should return a Series\n"
   ]
  },
  {
   "cell_type": "code",
   "execution_count": 4,
   "metadata": {},
   "outputs": [
    {
     "data": {
      "text/plain": [
       "country    Afghanistan\n",
       "year              2017\n",
       "measure            inc\n",
       "unit               num\n",
       "age               0-14\n",
       "sex                  a\n",
       "best              7500\n",
       "lo                4300\n",
       "hi               11000\n",
       "Name: 0, dtype: object"
      ]
     },
     "execution_count": 4,
     "metadata": {},
     "output_type": "execute_result"
    }
   ],
   "source": [
    "def answer_zero():\n",
    "\n",
    "    return df.iloc[0]\n",
    "\n",
    "answer_zero() "
   ]
  },
  {
   "cell_type": "markdown",
   "metadata": {},
   "source": [
    "### Question 1\n",
    "\n",
    "Which country has the highest estimate of TB?\n",
    "\n",
    "This function should return a the string India."
   ]
  },
  {
   "cell_type": "code",
   "execution_count": 5,
   "metadata": {},
   "outputs": [
    {
     "data": {
      "text/plain": [
       "'India'"
      ]
     },
     "execution_count": 5,
     "metadata": {},
     "output_type": "execute_result"
    }
   ],
   "source": [
    "def answer_one():\n",
    "    \n",
    "    return df['country'].iloc[df['hi'].idxmax()]\n",
    "\n",
    "answer_one()"
   ]
  },
  {
   "cell_type": "code",
   "execution_count": 11,
   "metadata": {},
   "outputs": [
    {
     "data": {
      "text/plain": [
       "119"
      ]
     },
     "execution_count": 11,
     "metadata": {},
     "output_type": "execute_result"
    }
   ],
   "source": [
    "df_65 = df[df['age'] == '65plus']\n",
    "len(set(df_65['country']))"
   ]
  },
  {
   "cell_type": "markdown",
   "metadata": {},
   "source": [
    "### Question 2\n",
    "\n",
    "Which country has the smallest difference between high and low estimates?"
   ]
  },
  {
   "cell_type": "code",
   "execution_count": 6,
   "metadata": {},
   "outputs": [
    {
     "data": {
      "text/plain": [
       "'American Samoa'"
      ]
     },
     "execution_count": 6,
     "metadata": {},
     "output_type": "execute_result"
    }
   ],
   "source": [
    "def answer_two():\n",
    "    \n",
    "    return df['country'].iloc[(df['hi'] - df['lo']).idxmin()]\n",
    "\n",
    "answer_two()"
   ]
  },
  {
   "cell_type": "markdown",
   "metadata": {},
   "source": [
    "### Question 3\n",
    "\n",
    "How many countries have 65plus records?"
   ]
  },
  {
   "cell_type": "code",
   "execution_count": 16,
   "metadata": {},
   "outputs": [
    {
     "data": {
      "text/plain": [
       "country\n",
       "Afghanistan                           1\n",
       "Algeria                               1\n",
       "Angola                                1\n",
       "Argentina                             1\n",
       "Australia                             1\n",
       "                                     ..\n",
       "Venezuela (Bolivarian Republic of)    1\n",
       "Viet Nam                              1\n",
       "Yemen                                 1\n",
       "Zambia                                1\n",
       "Zimbabwe                              1\n",
       "Name: age, Length: 119, dtype: int64"
      ]
     },
     "execution_count": 16,
     "metadata": {},
     "output_type": "execute_result"
    }
   ],
   "source": [
    "df_65.groupby('country')['age'].nunique()"
   ]
  },
  {
   "cell_type": "code",
   "execution_count": 7,
   "metadata": {},
   "outputs": [
    {
     "data": {
      "text/plain": [
       "119"
      ]
     },
     "execution_count": 7,
     "metadata": {},
     "output_type": "execute_result"
    }
   ],
   "source": [
    "def answer_three(df):\n",
    "    \n",
    "    df = df[df['age'] == '65plus'] #select 65plus countries\n",
    "    return len(df.groupby('country')['age'].nunique())\n",
    "\n",
    "answer_three(df)\n",
    "        "
   ]
  },
  {
   "cell_type": "markdown",
   "metadata": {},
   "source": [
    "### Question 4\n",
    "\n",
    "Select the females and exclude the 'age = all' records. What are the top 5 countries that have the two most highest 'best estimates'? \n"
   ]
  },
  {
   "cell_type": "code",
   "execution_count": 18,
   "metadata": {},
   "outputs": [],
   "source": [
    "import pandas as pd\n",
    "\n",
    "df = pd.read_csv('../data/TB_burden_age_sex_2019-04-23.csv')\n",
    "df = df.drop('iso2', axis = 1).drop('iso3', axis =1).drop('iso_numeric', axis=1)\n",
    "df = df.rename(columns = {'age_group':'age'})\n"
   ]
  },
  {
   "cell_type": "code",
   "execution_count": 25,
   "metadata": {},
   "outputs": [
    {
     "data": {
      "text/html": [
       "<div>\n",
       "<style scoped>\n",
       "    .dataframe tbody tr th:only-of-type {\n",
       "        vertical-align: middle;\n",
       "    }\n",
       "\n",
       "    .dataframe tbody tr th {\n",
       "        vertical-align: top;\n",
       "    }\n",
       "\n",
       "    .dataframe thead th {\n",
       "        text-align: right;\n",
       "    }\n",
       "</style>\n",
       "<table border=\"1\" class=\"dataframe\">\n",
       "  <thead>\n",
       "    <tr style=\"text-align: right;\">\n",
       "      <th></th>\n",
       "      <th>country</th>\n",
       "      <th>year</th>\n",
       "      <th>measure</th>\n",
       "      <th>unit</th>\n",
       "      <th>age</th>\n",
       "      <th>sex</th>\n",
       "      <th>best</th>\n",
       "      <th>lo</th>\n",
       "      <th>hi</th>\n",
       "    </tr>\n",
       "  </thead>\n",
       "  <tbody>\n",
       "    <tr>\n",
       "      <th>23</th>\n",
       "      <td>Afghanistan</td>\n",
       "      <td>2017</td>\n",
       "      <td>inc</td>\n",
       "      <td>num</td>\n",
       "      <td>all</td>\n",
       "      <td>f</td>\n",
       "      <td>34000</td>\n",
       "      <td>15000.0</td>\n",
       "      <td>53000.0</td>\n",
       "    </tr>\n",
       "    <tr>\n",
       "      <th>32</th>\n",
       "      <td>Albania</td>\n",
       "      <td>2017</td>\n",
       "      <td>inc</td>\n",
       "      <td>num</td>\n",
       "      <td>all</td>\n",
       "      <td>f</td>\n",
       "      <td>200</td>\n",
       "      <td>160.0</td>\n",
       "      <td>240.0</td>\n",
       "    </tr>\n",
       "    <tr>\n",
       "      <th>57</th>\n",
       "      <td>Algeria</td>\n",
       "      <td>2017</td>\n",
       "      <td>inc</td>\n",
       "      <td>num</td>\n",
       "      <td>all</td>\n",
       "      <td>f</td>\n",
       "      <td>12000</td>\n",
       "      <td>7700.0</td>\n",
       "      <td>16000.0</td>\n",
       "    </tr>\n",
       "    <tr>\n",
       "      <th>66</th>\n",
       "      <td>American Samoa</td>\n",
       "      <td>2017</td>\n",
       "      <td>inc</td>\n",
       "      <td>num</td>\n",
       "      <td>all</td>\n",
       "      <td>f</td>\n",
       "      <td>2</td>\n",
       "      <td>1.0</td>\n",
       "      <td>2.0</td>\n",
       "    </tr>\n",
       "    <tr>\n",
       "      <th>75</th>\n",
       "      <td>Andorra</td>\n",
       "      <td>2017</td>\n",
       "      <td>inc</td>\n",
       "      <td>num</td>\n",
       "      <td>all</td>\n",
       "      <td>f</td>\n",
       "      <td>0</td>\n",
       "      <td>0.0</td>\n",
       "      <td>0.0</td>\n",
       "    </tr>\n",
       "    <tr>\n",
       "      <th>...</th>\n",
       "      <td>...</td>\n",
       "      <td>...</td>\n",
       "      <td>...</td>\n",
       "      <td>...</td>\n",
       "      <td>...</td>\n",
       "      <td>...</td>\n",
       "      <td>...</td>\n",
       "      <td>...</td>\n",
       "      <td>...</td>\n",
       "    </tr>\n",
       "    <tr>\n",
       "      <th>3762</th>\n",
       "      <td>Wallis and Futuna Islands</td>\n",
       "      <td>2017</td>\n",
       "      <td>inc</td>\n",
       "      <td>num</td>\n",
       "      <td>all</td>\n",
       "      <td>f</td>\n",
       "      <td>0</td>\n",
       "      <td>0.0</td>\n",
       "      <td>0.0</td>\n",
       "    </tr>\n",
       "    <tr>\n",
       "      <th>3771</th>\n",
       "      <td>West Bank and Gaza Strip</td>\n",
       "      <td>2017</td>\n",
       "      <td>inc</td>\n",
       "      <td>num</td>\n",
       "      <td>all</td>\n",
       "      <td>f</td>\n",
       "      <td>21</td>\n",
       "      <td>14.0</td>\n",
       "      <td>29.0</td>\n",
       "    </tr>\n",
       "    <tr>\n",
       "      <th>3796</th>\n",
       "      <td>Yemen</td>\n",
       "      <td>2017</td>\n",
       "      <td>inc</td>\n",
       "      <td>num</td>\n",
       "      <td>all</td>\n",
       "      <td>f</td>\n",
       "      <td>6800</td>\n",
       "      <td>5600.0</td>\n",
       "      <td>8100.0</td>\n",
       "    </tr>\n",
       "    <tr>\n",
       "      <th>3821</th>\n",
       "      <td>Zambia</td>\n",
       "      <td>2017</td>\n",
       "      <td>inc</td>\n",
       "      <td>num</td>\n",
       "      <td>all</td>\n",
       "      <td>f</td>\n",
       "      <td>24000</td>\n",
       "      <td>11000.0</td>\n",
       "      <td>36000.0</td>\n",
       "    </tr>\n",
       "    <tr>\n",
       "      <th>3846</th>\n",
       "      <td>Zimbabwe</td>\n",
       "      <td>2017</td>\n",
       "      <td>inc</td>\n",
       "      <td>num</td>\n",
       "      <td>all</td>\n",
       "      <td>f</td>\n",
       "      <td>15000</td>\n",
       "      <td>9400.0</td>\n",
       "      <td>21000.0</td>\n",
       "    </tr>\n",
       "  </tbody>\n",
       "</table>\n",
       "<p>216 rows × 9 columns</p>\n",
       "</div>"
      ],
      "text/plain": [
       "                        country  year measure unit  age sex   best       lo  \\\n",
       "23                  Afghanistan  2017     inc  num  all   f  34000  15000.0   \n",
       "32                      Albania  2017     inc  num  all   f    200    160.0   \n",
       "57                      Algeria  2017     inc  num  all   f  12000   7700.0   \n",
       "66               American Samoa  2017     inc  num  all   f      2      1.0   \n",
       "75                      Andorra  2017     inc  num  all   f      0      0.0   \n",
       "...                         ...   ...     ...  ...  ...  ..    ...      ...   \n",
       "3762  Wallis and Futuna Islands  2017     inc  num  all   f      0      0.0   \n",
       "3771   West Bank and Gaza Strip  2017     inc  num  all   f     21     14.0   \n",
       "3796                      Yemen  2017     inc  num  all   f   6800   5600.0   \n",
       "3821                     Zambia  2017     inc  num  all   f  24000  11000.0   \n",
       "3846                   Zimbabwe  2017     inc  num  all   f  15000   9400.0   \n",
       "\n",
       "           hi  \n",
       "23    53000.0  \n",
       "32      240.0  \n",
       "57    16000.0  \n",
       "66        2.0  \n",
       "75        0.0  \n",
       "...       ...  \n",
       "3762      0.0  \n",
       "3771     29.0  \n",
       "3796   8100.0  \n",
       "3821  36000.0  \n",
       "3846  21000.0  \n",
       "\n",
       "[216 rows x 9 columns]"
      ]
     },
     "execution_count": 25,
     "metadata": {},
     "output_type": "execute_result"
    }
   ],
   "source": [
    "#df['age'] =='all'\n",
    "df_all_f = df[(df['sex'] == 'f') & (df['age'] =='all')]\n",
    "df_all_f"
   ]
  },
  {
   "cell_type": "code",
   "execution_count": 30,
   "metadata": {},
   "outputs": [],
   "source": [
    "group = df_all_f.groupby('country')['best'].nlargest(2)"
   ]
  },
  {
   "cell_type": "code",
   "execution_count": 32,
   "metadata": {},
   "outputs": [],
   "source": [
    "df_x = df_all_f.groupby('country')['best'].apply(lambda x: x.nlargest(2).sum())"
   ]
  },
  {
   "cell_type": "code",
   "execution_count": 33,
   "metadata": {},
   "outputs": [
    {
     "data": {
      "text/plain": [
       "country\n",
       "Afghanistan                  34000\n",
       "Albania                        200\n",
       "Algeria                      12000\n",
       "American Samoa                   2\n",
       "Andorra                          0\n",
       "                             ...  \n",
       "Wallis and Futuna Islands        0\n",
       "West Bank and Gaza Strip        21\n",
       "Yemen                         6800\n",
       "Zambia                       24000\n",
       "Zimbabwe                     15000\n",
       "Name: best, Length: 216, dtype: int64"
      ]
     },
     "execution_count": 33,
     "metadata": {},
     "output_type": "execute_result"
    }
   ],
   "source": [
    "df_x"
   ]
  },
  {
   "cell_type": "code",
   "execution_count": 19,
   "metadata": {},
   "outputs": [
    {
     "data": {
      "text/plain": [
       "country\n",
       "India          1084000\n",
       "Indonesia       393000\n",
       "China           296000\n",
       "Pakistan        252000\n",
       "Philippines     173000\n",
       "Name: best, dtype: int64"
      ]
     },
     "execution_count": 19,
     "metadata": {},
     "output_type": "execute_result"
    }
   ],
   "source": [
    "import pandas as pd\n",
    "\n",
    "df = pd.read_csv('data/TB_burden_age_sex_2019-04-23.csv')\n",
    "df = df.drop('iso2', axis = 1).drop('iso3', axis =1).drop('iso_numeric', axis=1)\n",
    "df = df.rename(columns = {'age_group':'age'})\n",
    "\n",
    "df = df[df['sex'] == 'f'] \n",
    "df = df[df['age'] != 'all']\n",
    "df = df.groupby('country')['best'].apply(lambda x: x.nlargest(2).sum())\n",
    "df.nlargest(5) #top 5 countries\n"
   ]
  },
  {
   "cell_type": "code",
   "execution_count": null,
   "metadata": {},
   "outputs": [],
   "source": []
  }
 ],
 "metadata": {
  "kernelspec": {
   "display_name": "Python 3",
   "language": "python",
   "name": "python3"
  },
  "language_info": {
   "codemirror_mode": {
    "name": "ipython",
    "version": 3
   },
   "file_extension": ".py",
   "mimetype": "text/x-python",
   "name": "python",
   "nbconvert_exporter": "python",
   "pygments_lexer": "ipython3",
   "version": "3.8.2"
  }
 },
 "nbformat": 4,
 "nbformat_minor": 4
}
